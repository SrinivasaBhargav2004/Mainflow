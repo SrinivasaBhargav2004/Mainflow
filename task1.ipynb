{
 "cells": [
  {
   "cell_type": "code",
   "execution_count": 1,
   "id": "cfabcadf-82a0-4862-bd2e-f7ee58b96b63",
   "metadata": {},
   "outputs": [
    {
     "name": "stdout",
     "output_type": "stream",
     "text": [
      "[11, 22, 33, 44, 55, 66, 77, 88]\n"
     ]
    }
   ],
   "source": [
    "#creating a list\n",
    "li=[11,22,33,44,55,66,77,88]\n",
    "print(li)"
   ]
  },
  {
   "cell_type": "code",
   "execution_count": 2,
   "id": "a15f0d49-8576-44e9-8824-230cbe840fc9",
   "metadata": {},
   "outputs": [
    {
     "name": "stdout",
     "output_type": "stream",
     "text": [
      "[11, 22, 33, 44, 55, 66, 77, 88, 99]\n",
      "[11, 22, 44, 55, 66, 77, 88, 99]\n"
     ]
    }
   ],
   "source": [
    "li.append(99)\n",
    "print(li)\n",
    "li.remove(33)\n",
    "print(li)"
   ]
  },
  {
   "cell_type": "code",
   "execution_count": 3,
   "id": "5b53c1ce-74e2-45e3-8245-0b29624f1841",
   "metadata": {},
   "outputs": [
    {
     "name": "stdout",
     "output_type": "stream",
     "text": [
      "update list: [11, 22, 24, 55, 66, 77, 88, 99]\n"
     ]
    }
   ],
   "source": [
    "li[2]=24\n",
    "print(\"update list:\",li)"
   ]
  },
  {
   "cell_type": "code",
   "execution_count": 5,
   "id": "265ef7fd-b49a-4f90-9441-0bdf43d203cb",
   "metadata": {},
   "outputs": [
    {
     "name": "stdout",
     "output_type": "stream",
     "text": [
      "{'Student': 'College', 'City': 'Village', 'State': 'Capital', 'World': 'Country'}\n"
     ]
    }
   ],
   "source": [
    "#creating a dictionary\n",
    "di={\"Student\":\"College\",\"City\":\"Village\",\"State\":\"Capital\",\"World\":\"Country\"}\n",
    "print(di)"
   ]
  },
  {
   "cell_type": "code",
   "execution_count": 6,
   "id": "87dbb8cd-1d71-44b8-a990-98c9a0503166",
   "metadata": {},
   "outputs": [
    {
     "name": "stdout",
     "output_type": "stream",
     "text": [
      "Adding {'Student': 'College', 'City': 'Village', 'State': 'Capital', 'World': 'Country', 'Veg': 'Non Veg'}\n",
      "Removing {'Student': 'College', 'City': 'Village', 'World': 'Country', 'Veg': 'Non Veg'}\n"
     ]
    }
   ],
   "source": [
    "di[\"Veg\"]=\"Non Veg\"\n",
    "print(\"Adding\",di)\n",
    "del di[\"State\"]\n",
    "print(\"Removing\",di)"
   ]
  },
  {
   "cell_type": "code",
   "execution_count": 7,
   "id": "63c20094-e385-4267-9e20-04e7401c38a3",
   "metadata": {},
   "outputs": [
    {
     "name": "stdout",
     "output_type": "stream",
     "text": [
      "Updated: {'Student': 'College', 'City': 'Town', 'World': 'Country', 'Veg': 'Non Veg'}\n"
     ]
    }
   ],
   "source": [
    "di[\"City\"]=\"Town\"\n",
    "print(\"Updated:\",di)"
   ]
  },
  {
   "cell_type": "code",
   "execution_count": 8,
   "id": "072c464e-3c73-4583-9282-15fbe34699a3",
   "metadata": {},
   "outputs": [
    {
     "name": "stdout",
     "output_type": "stream",
     "text": [
      "{1, 4, 6, 7, 8, 9}\n"
     ]
    },
    {
     "data": {
      "text/plain": [
       "set"
      ]
     },
     "execution_count": 8,
     "metadata": {},
     "output_type": "execute_result"
    }
   ],
   "source": [
    "#Creating a set\n",
    "s={1,4,6,7,8,9}\n",
    "print(s)\n",
    "type(s)"
   ]
  },
  {
   "cell_type": "code",
   "execution_count": 10,
   "id": "6a78a819-01e9-439f-bbb3-8918cc45211e",
   "metadata": {},
   "outputs": [
    {
     "name": "stdout",
     "output_type": "stream",
     "text": [
      "Add: {1, 2, 4, 6, 7, 8, 9}\n",
      "Remove: {1, 2, 4, 7, 8, 9}\n"
     ]
    }
   ],
   "source": [
    "s.add(2)\n",
    "print(\"Add:\",s)\n",
    "s.remove(6)\n",
    "print(\"Remove:\",s)"
   ]
  },
  {
   "cell_type": "code",
   "execution_count": 11,
   "id": "5e3075a7-4f62-4978-ab73-4f499a9a19d0",
   "metadata": {},
   "outputs": [
    {
     "name": "stdout",
     "output_type": "stream",
     "text": [
      "Updated: {1, 2, 4, 8, 9, 10}\n"
     ]
    }
   ],
   "source": [
    "s.discard(7)\n",
    "s.add(10)\n",
    "print(\"Updated:\",s)"
   ]
  },
  {
   "cell_type": "code",
   "execution_count": null,
   "id": "e2d66fed-792e-4f0a-a95b-d19762dc8404",
   "metadata": {},
   "outputs": [],
   "source": []
  }
 ],
 "metadata": {
  "kernelspec": {
   "display_name": "Python 3 (ipykernel)",
   "language": "python",
   "name": "python3"
  },
  "language_info": {
   "codemirror_mode": {
    "name": "ipython",
    "version": 3
   },
   "file_extension": ".py",
   "mimetype": "text/x-python",
   "name": "python",
   "nbconvert_exporter": "python",
   "pygments_lexer": "ipython3",
   "version": "3.12.2"
  }
 },
 "nbformat": 4,
 "nbformat_minor": 5
}
